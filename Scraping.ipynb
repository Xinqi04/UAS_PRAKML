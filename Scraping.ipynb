{
  "cells": [
    {
      "cell_type": "markdown",
      "metadata": {},
      "source": [
        "# *SCRAPING*\n",
        "\n",
        "Riza Anwar Fadil - mc222d5y1739"
      ]
    },
    {
      "cell_type": "code",
      "execution_count": 2,
      "metadata": {
        "id": "YzQc7QuzhTs1"
      },
      "outputs": [],
      "source": [
        "import csv\n",
        "from google_play_scraper import reviews_all, Sort"
      ]
    },
    {
      "cell_type": "markdown",
      "metadata": {},
      "source": [
        "Aplikasi yang akan dianalisis yaitu review dari aplikasi viki"
      ]
    },
    {
      "cell_type": "code",
      "execution_count": 3,
      "metadata": {
        "id": "lgT0E2qgj6Rq"
      },
      "outputs": [],
      "source": [
        "app_id = 'com.viki.android'"
      ]
    },
    {
      "cell_type": "markdown",
      "metadata": {},
      "source": [
        "Saya mengambil mengambil semua ulasan (review) dari sebuah aplikasi di Google Play Store berdasarkan `app_id`, dengan bahasa yang disetel ke Inggris, wilayah Amerika Serikat, dan mengurutkannya berdasarkan ulasan terbaru . "
      ]
    },
    {
      "cell_type": "code",
      "execution_count": 4,
      "metadata": {
        "id": "57__KEkXkBFp"
      },
      "outputs": [],
      "source": [
        "scrapreview = reviews_all(\n",
        "    app_id,\n",
        "    lang='eng',\n",
        "    country='us',\n",
        "    sort=Sort.NEWEST\n",
        ")"
      ]
    },
    {
      "cell_type": "code",
      "execution_count": null,
      "metadata": {
        "colab": {
          "base_uri": "https://localhost:8080/"
        },
        "id": "ysA1-0E_xGDO",
        "outputId": "ae4b737b-156c-430d-d2dc-543f2b1c4d92"
      },
      "outputs": [
        {
          "name": "stdout",
          "output_type": "stream",
          "text": [
            "Total review yang disimpan: 122988\n"
          ]
        }
      ],
      "source": [
        "with open('review_viki_eng.csv', mode='w', newline='', encoding='utf-8') as file:\n",
        "    writer = csv.writer(file)\n",
        "    writer.writerow(['Username', 'Review', 'Rating', 'Tanggal'])  \n",
        "    for review in scrapreview:\n",
        "        writer.writerow([\n",
        "            review.get('userName', ''),      \n",
        "            review.get('content', ''),       \n",
        "            review.get('score', ''),         \n",
        "            review.get('at', '')             \n",
        "        ])\n",
        "\n",
        "print(f\"Total review yang disimpan: {len(scrapreview)}\")"
      ]
    }
  ],
  "metadata": {
    "colab": {
      "provenance": []
    },
    "kernelspec": {
      "display_name": ".venv",
      "language": "python",
      "name": "python3"
    },
    "language_info": {
      "codemirror_mode": {
        "name": "ipython",
        "version": 3
      },
      "file_extension": ".py",
      "mimetype": "text/x-python",
      "name": "python",
      "nbconvert_exporter": "python",
      "pygments_lexer": "ipython3",
      "version": "3.12.1"
    }
  },
  "nbformat": 4,
  "nbformat_minor": 0
}
